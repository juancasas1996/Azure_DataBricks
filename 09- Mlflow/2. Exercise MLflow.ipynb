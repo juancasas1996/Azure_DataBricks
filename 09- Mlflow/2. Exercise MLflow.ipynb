{
 "cells": [
  {
   "cell_type": "markdown",
   "metadata": {
    "application/vnd.databricks.v1+cell": {
     "cellMetadata": {},
     "inputWidgets": {},
     "nuid": "33f83609-3785-4492-a807-7446b52cdbee",
     "showTitle": false,
     "title": ""
    }
   },
   "source": [
    "# Exercise MLflow\n",
    "In this exercise we will uses the `diabetes` dataset in scikit-learn and predicts the progression metric (a quantitative measure of disease progression after one year after) based on BMI, blood pressure, etc. We will uses the scikit-learn ElasticNet linear regression model, where we vary the `alpha` and `l1_ratio` parameters for tuning. We will use MLflow to log  metrics, parameters, artifacts and model. For more information on ElasticNet, refer to:\n",
    "  * [Elastic net regularization](https://en.wikipedia.org/wiki/Elastic_net_regularization)\n",
    "  * [Regularization and Variable Selection via the Elastic Net](https://web.stanford.edu/~hastie/TALKS/enet_talk.pdf)\n",
    "\n",
    "\n",
    "**Required Libraries**: \n",
    "* `mlflow==1.7.0` via PyPI"
   ]
  },
  {
   "cell_type": "code",
   "execution_count": 0,
   "metadata": {
    "application/vnd.databricks.v1+cell": {
     "cellMetadata": {},
     "inputWidgets": {},
     "nuid": "0e6921a9-9e4d-47f7-a6a9-df3f436a91bd",
     "showTitle": false,
     "title": ""
    }
   },
   "outputs": [],
   "source": [
    "%run \"./Includes/Classroom-Setup\""
   ]
  },
  {
   "cell_type": "markdown",
   "metadata": {
    "application/vnd.databricks.v1+cell": {
     "cellMetadata": {},
     "inputWidgets": {},
     "nuid": "21b3afd8-0f48-4385-81d2-ebeb31f7d354",
     "showTitle": false,
     "title": ""
    }
   },
   "source": [
    "### Write Your ML Code Based on the`train_diabetes.py` Code\n",
    "This lab is based on the MLflow's [train_diabetes.py](https://github.com/mlflow/mlflow/blob/master/examples/sklearn_elasticnet_diabetes/osx/train_diabetes.py) example, which uses the `sklearn.diabetes` built-in dataset to predict disease progression based on various factors."
   ]
  },
  {
   "cell_type": "code",
   "execution_count": 0,
   "metadata": {
    "application/vnd.databricks.v1+cell": {
     "cellMetadata": {},
     "inputWidgets": {},
     "nuid": "ef70af33-4d64-4ed9-9837-25b26d958be5",
     "showTitle": false,
     "title": ""
    }
   },
   "outputs": [],
   "source": [
    "#TODO\n",
    "# Import various libraries including matplotlib, sklearn, mlflow\n",
    "import os\n",
    "import warnings\n",
    "import sys\n",
    "\n",
    "import pandas as pd\n",
    "import numpy as np\n",
    "from itertools import cycle\n",
    "import matplotlib.pyplot as plt\n",
    "from sklearn.metrics import mean_squared_error, mean_absolute_error, r2_score\n",
    "from sklearn.model_selection import train_test_split\n",
    "from sklearn.linear_model import ElasticNet\n",
    "from sklearn.linear_model import lasso_path, enet_path\n",
    "from sklearn import datasets\n",
    "\n",
    "# Import mlflow\n",
    "import mlflow\n",
    "import mlflow.sklearn\n",
    "\n",
    "# Load Diabetes datasets\n",
    "\n",
    "diabetes = # FILL_IN\n",
    "X = # FILL_IN\n",
    "y = # FILL_IN\n",
    "\n",
    "# Create pandas DataFrame for sklearn ElasticNet linear_model\n",
    "Y = np.array([y]).transpose()\n",
    "d = np.concatenate((X, Y), axis=1)\n",
    "cols = ['age', 'sex', 'bmi', 'bp', 's1', 's2', 's3', 's4', 's5', 's6', 'progression']\n",
    "data = pd.DataFrame(# FILL_IN)"
   ]
  },
  {
   "cell_type": "markdown",
   "metadata": {
    "application/vnd.databricks.v1+cell": {
     "cellMetadata": {},
     "inputWidgets": {},
     "nuid": "5fb5ac10-c5c5-4ea8-b853-e121ff6b97b2",
     "showTitle": false,
     "title": ""
    }
   },
   "source": [
    "### Plot the ElasticNet Descent Path\n",
    "As an example of recording arbitrary output files in MLflow, plot the [ElasticNet Descent Path](http://scikit-learn.org/stable/auto_examples/linear_model/plot_lasso_coordinate_descent_path.html) for the ElasticNet model by *alpha* for the specified *l1_ratio*.\n",
    "\n",
    "The `plot_enet_descent_path` function below:\n",
    "* Returns an image that can be displayed in our Databricks notebook via `display`\n",
    "* As well as saves the figure `ElasticNet-paths.png` to the Databricks cluster's driver node\n",
    "* Upload the file to MLflow using the `log_artifact` within `train_diabetes`"
   ]
  },
  {
   "cell_type": "code",
   "execution_count": 0,
   "metadata": {
    "application/vnd.databricks.v1+cell": {
     "cellMetadata": {},
     "inputWidgets": {},
     "nuid": "2e3e077e-f4cb-4884-9940-c76a9577894f",
     "showTitle": false,
     "title": ""
    }
   },
   "outputs": [],
   "source": [
    "def plot_enet_descent_path(X, y, l1_ratio):\n",
    "    # Compute paths\n",
    "    eps = 5e-3  # the smaller it is the longer is the path\n",
    "\n",
    "    # Reference the global image variable\n",
    "    global image\n",
    "    \n",
    "    print(\"Computing regularization path using ElasticNet.\")\n",
    "    alphas_enet, coefs_enet, _ = enet_path(X, y, eps=eps, l1_ratio=l1_ratio, fit_intercept=False)\n",
    "\n",
    "    # Display results\n",
    "    fig = plt.figure(1)\n",
    "    ax = plt.gca()\n",
    "\n",
    "    colors = cycle(['b', 'r', 'g', 'c', 'k'])\n",
    "    neg_log_alphas_enet = -np.log10(alphas_enet)\n",
    "    for coef_e, c in zip(coefs_enet, colors):\n",
    "        l1 = plt.plot(neg_log_alphas_enet, coef_e, linestyle='--', c=c)\n",
    "\n",
    "    plt.xlabel('-Log(alpha)')\n",
    "    plt.ylabel('coefficients')\n",
    "    title = 'ElasticNet Path by alpha for l1_ratio = ' + str(l1_ratio)\n",
    "    plt.title(title)\n",
    "    plt.axis('tight')\n",
    "\n",
    "    # Display images\n",
    "    image = fig\n",
    "    \n",
    "    # Save figure\n",
    "    fig.savefig(\"ElasticNet-paths.png\")\n",
    "\n",
    "    # Close plot\n",
    "    plt.close(fig)\n",
    "\n",
    "    # Return images\n",
    "    return image    "
   ]
  },
  {
   "cell_type": "markdown",
   "metadata": {
    "application/vnd.databricks.v1+cell": {
     "cellMetadata": {},
     "inputWidgets": {},
     "nuid": "3dfd09b5-d922-42ce-8ec3-bc90d8e878c7",
     "showTitle": false,
     "title": ""
    }
   },
   "source": [
    "### Train the Diabetes Model\n",
    "The next function trains ElasticNet linear regression based on the input parameters of `alpha (in_alpha)` and `l1_ratio (in_l1_ratio)`.\n",
    "\n",
    "In addition, this function uses MLflow Tracking to record its\n",
    "* parameters\n",
    "* metrics\n",
    "* model\n",
    "* arbitrary files, namely the above noted Lasso Descent Path plot.\n",
    "\n",
    "**Tip:** Use `with mlflow.start_run:` in the Python code to create a new MLflow run. This is the recommended way to use MLflow in notebook cells. Whether your code completes or exits with an error, the `with` context will make sure to close the MLflow run, so you don't have to call `mlflow.end_run`."
   ]
  },
  {
   "cell_type": "code",
   "execution_count": 0,
   "metadata": {
    "application/vnd.databricks.v1+cell": {
     "cellMetadata": {},
     "inputWidgets": {},
     "nuid": "51145fdb-71ae-4c2d-aa1f-15deba37078d",
     "showTitle": false,
     "title": ""
    }
   },
   "outputs": [],
   "source": [
    "#TODO\n",
    "# train_diabetes\n",
    "#   Uses the sklearn Diabetes dataset to predict diabetes progression using ElasticNet\n",
    "#       The predicted \"progression\" column is a quantitative measure of disease progression one year after baseline\n",
    "#       http://scikit-learn.org/stable/modules/generated/sklearn.datasets.load_diabetes.html\n",
    "def train_diabetes(data, in_alpha, in_l1_ratio):\n",
    "  # Evaluate metrics\n",
    "  def eval_metrics(actual, pred):\n",
    "      rmse = np.sqrt(mean_squared_error(actual, pred))\n",
    "      mae = mean_absolute_error(actual, pred)\n",
    "      r2 = r2_score(actual, pred)\n",
    "      return rmse, mae, r2\n",
    "\n",
    "  warnings.filterwarnings(\"ignore\")\n",
    "  np.random.seed(40)\n",
    "\n",
    "  # Split the data into training and test sets. (0.75, 0.25) split.\n",
    "  train, test = train_test_split(data)\n",
    "\n",
    "  # The predicted column is \"progression\" which is a quantitative measure of disease progression one year after baseline\n",
    "  train_x = train.drop([\"progression\"], axis=1)\n",
    "  test_x = test.drop([\"progression\"], axis=1)\n",
    "  train_y = train[[\"progression\"]]\n",
    "  test_y = test[[\"progression\"]]\n",
    "\n",
    "  if float(in_alpha) is None:\n",
    "    alpha = 0.05\n",
    "  else:\n",
    "    alpha = float(in_alpha)\n",
    "    \n",
    "  if float(in_l1_ratio) is None:\n",
    "    l1_ratio = 0.05\n",
    "  else:\n",
    "    l1_ratio = float(in_l1_ratio)\n",
    "  \n",
    "  # Start an MLflow run; the \"with\" keyword ensures we'll close the run even if this cell crashes\n",
    "  with mlflow.start_run():\n",
    "    lr = ElasticNet(alpha=alpha, l1_ratio=l1_ratio, random_state=42)\n",
    "    lr.fit(train_x, train_y)\n",
    "\n",
    "    predicted_qualities = lr.predict(test_x)\n",
    "\n",
    "    (rmse, mae, r2) = eval_metrics(test_y, predicted_qualities)\n",
    "\n",
    "    # Print out ElasticNet model metrics\n",
    "    print(\"Elasticnet model (alpha=%f, l1_ratio=%f):\" % (alpha, l1_ratio))\n",
    "    print(\"  RMSE: %s\" % rmse)\n",
    "    print(\"  MAE: %s\" % mae)\n",
    "    print(\"  R2: %s\" % r2)\n",
    "\n",
    "    # Set tracking_URI first and then reset it back to not specifying port\n",
    "    # Note, we had specified this in an earlier cell\n",
    "    #mlflow.set_tracking_uri(mlflow_tracking_URI)\n",
    "\n",
    "    # Log mlflow attributes for mlflow UI\n",
    "    mlflow.log_param(\"alpha\", # FILL_IN)\n",
    "    mlflow.log_param(# FILL_IN, l1_ratio)\n",
    "    #log rmse\n",
    "    mlflow.log_metric(# FILL_IN)\n",
    "    mlflow.log_metric(\"r2\", r2)\n",
    "    # log mae\n",
    "    mlflow.log_metric(# FILL_IN)\n",
    "    mlflow.sklearn.log_model(lr, \"model\")\n",
    "    modelpath = \"/dbfs/mlflow/test_diabetes/model-%f-%f\" % (alpha, l1_ratio)\n",
    "    mlflow.sklearn.save_model(lr, modelpath)\n",
    "    \n",
    "    # Call plot_enet_descent_path\n",
    "    image = plot_enet_descent_path(X, y, l1_ratio)\n",
    "    \n",
    "    # Log artifacts (output files)\n",
    "    mlflow.log_artifact(\"ElasticNet-paths.png\")"
   ]
  },
  {
   "cell_type": "markdown",
   "metadata": {
    "application/vnd.databricks.v1+cell": {
     "cellMetadata": {},
     "inputWidgets": {},
     "nuid": "0774a6fd-0beb-4210-888d-9e7b2c8548a4",
     "showTitle": false,
     "title": ""
    }
   },
   "source": [
    "### Experiment with Different Parameters\n",
    "\n",
    "Call `train_diabetes` with different parameters. Later, you'll be able to visualize all these runs in the MLflow experiment."
   ]
  },
  {
   "cell_type": "code",
   "execution_count": 0,
   "metadata": {
    "application/vnd.databricks.v1+cell": {
     "cellMetadata": {},
     "inputWidgets": {},
     "nuid": "efdceb52-08e6-4ab4-97ce-2146be9a781c",
     "showTitle": false,
     "title": ""
    }
   },
   "outputs": [],
   "source": [
    "%fs rm -r dbfs:/mlflow/test_diabetes"
   ]
  },
  {
   "cell_type": "code",
   "execution_count": 0,
   "metadata": {
    "application/vnd.databricks.v1+cell": {
     "cellMetadata": {},
     "inputWidgets": {},
     "nuid": "0e562ff6-1602-4cdc-924c-908574251575",
     "showTitle": false,
     "title": ""
    }
   },
   "outputs": [],
   "source": [
    "# alpha and l1_ratio values of 0.01, 0.01\n",
    "train_diabetes(data, 0.01, 0.01)"
   ]
  },
  {
   "cell_type": "code",
   "execution_count": 0,
   "metadata": {
    "application/vnd.databricks.v1+cell": {
     "cellMetadata": {},
     "inputWidgets": {},
     "nuid": "33ee5bac-f608-4315-a715-575e3198aa0c",
     "showTitle": false,
     "title": ""
    }
   },
   "outputs": [],
   "source": [
    "display(image)"
   ]
  },
  {
   "cell_type": "code",
   "execution_count": 0,
   "metadata": {
    "application/vnd.databricks.v1+cell": {
     "cellMetadata": {},
     "inputWidgets": {},
     "nuid": "96b42b37-143c-482f-9f79-a58d42398a4d",
     "showTitle": false,
     "title": ""
    }
   },
   "outputs": [],
   "source": [
    "# alpha and l1_ratio values of 0.01, 0.75\n",
    "train_diabetes(data, 0.01, 0.75)"
   ]
  },
  {
   "cell_type": "code",
   "execution_count": 0,
   "metadata": {
    "application/vnd.databricks.v1+cell": {
     "cellMetadata": {},
     "inputWidgets": {},
     "nuid": "031412ab-06ac-461c-ad14-e2416737e664",
     "showTitle": false,
     "title": ""
    }
   },
   "outputs": [],
   "source": [
    "display(image)"
   ]
  },
  {
   "cell_type": "code",
   "execution_count": 0,
   "metadata": {
    "application/vnd.databricks.v1+cell": {
     "cellMetadata": {},
     "inputWidgets": {},
     "nuid": "ae91e35f-2d61-4cd0-84af-18b44d1a752d",
     "showTitle": false,
     "title": ""
    }
   },
   "outputs": [],
   "source": [
    "# alpha and l1_ratio values of 0.01, .5\n",
    "train_diabetes(data, 0.01, .5)"
   ]
  },
  {
   "cell_type": "code",
   "execution_count": 0,
   "metadata": {
    "application/vnd.databricks.v1+cell": {
     "cellMetadata": {},
     "inputWidgets": {},
     "nuid": "f02e9b58-95cb-462d-a918-860ccfb70394",
     "showTitle": false,
     "title": ""
    }
   },
   "outputs": [],
   "source": [
    "display(image)"
   ]
  },
  {
   "cell_type": "code",
   "execution_count": 0,
   "metadata": {
    "application/vnd.databricks.v1+cell": {
     "cellMetadata": {},
     "inputWidgets": {},
     "nuid": "a440149b-0641-4faa-b344-4c3fc58f989f",
     "showTitle": false,
     "title": ""
    }
   },
   "outputs": [],
   "source": [
    "# alpha and l1_ratio values of 0.01, 1\n",
    "train_diabetes(data, 0.01, 1)"
   ]
  },
  {
   "cell_type": "code",
   "execution_count": 0,
   "metadata": {
    "application/vnd.databricks.v1+cell": {
     "cellMetadata": {},
     "inputWidgets": {},
     "nuid": "2dcb44d5-329f-435b-bd90-30b5f96d7a23",
     "showTitle": false,
     "title": ""
    }
   },
   "outputs": [],
   "source": [
    "display(image)"
   ]
  },
  {
   "cell_type": "markdown",
   "metadata": {
    "application/vnd.databricks.v1+cell": {
     "cellMetadata": {},
     "inputWidgets": {},
     "nuid": "fcba6dcc-7ce0-4092-b484-35a262f73096",
     "showTitle": false,
     "title": ""
    }
   },
   "source": [
    "### View the run, experiment, run details, and notebook revision\n",
    "\n",
    "1. Click the **Runs** icon in the notebook context bar to display the Runs sidebar. In the sidebar, you can view the run parameters and metrics. For example: <img src=\"https://docs.databricks.com/_static/images/mlflow/mlflow-notebook-experiments.gif\"/>\n",
    "   \n",
    "1. Click the External Link icon <img src=\"https://docs.databricks.com/_static/images/external-link.png\"/> in the Runs context bar to view the notebook experiment. For example: <img src=\"https://docs.databricks.com/_static/images/mlflow/quick-start-nb-experiment.png\"/>"
   ]
  }
 ],
 "metadata": {
  "application/vnd.databricks.v1+notebook": {
   "dashboards": [],
   "language": "python",
   "notebookMetadata": {
    "pythonIndentUnit": 2
   },
   "notebookName": "2. Exercise MLflow",
   "widgets": {}
  }
 },
 "nbformat": 4,
 "nbformat_minor": 0
}
