{
 "cells": [
  {
   "cell_type": "markdown",
   "metadata": {
    "application/vnd.databricks.v1+cell": {
     "cellMetadata": {},
     "inputWidgets": {},
     "nuid": "2f0f9334-8d4c-4c91-807d-94d319154ad1",
     "showTitle": false,
     "title": ""
    }
   },
   "source": [
    "# Introduction to DataFrames Lab\n",
    "## Distinct Articles"
   ]
  },
  {
   "cell_type": "markdown",
   "metadata": {
    "application/vnd.databricks.v1+cell": {
     "cellMetadata": {},
     "inputWidgets": {},
     "nuid": "d3c86163-f3d3-464b-9d45-a29356881f9f",
     "showTitle": false,
     "title": ""
    }
   },
   "source": [
    "##![Spark Logo Tiny](https://files.training.databricks.com/images/105/logo_spark_tiny.png) Instructions\n",
    "\n",
    "In the cell provided below, write the code necessary to count the number of distinct articles in our data set.\n",
    "0. Copy and paste all you like from the previous notebook.\n",
    "0. Read in our parquet files.\n",
    "0. Apply the necessary transformations.\n",
    "0. Assign the count to the variable `totalArticles`\n",
    "0. Run the last cell to verify that the data was loaded correctly.\n",
    "\n",
    "**Bonus**\n",
    "\n",
    "If you recall from the beginning of the previous notebook, the act of reading in our parquet files will trigger a job.\n",
    "0. Define a schema that matches the data we are working with.\n",
    "0. Update the read operation to use the schema."
   ]
  },
  {
   "cell_type": "markdown",
   "metadata": {
    "application/vnd.databricks.v1+cell": {
     "cellMetadata": {},
     "inputWidgets": {},
     "nuid": "97c3d092-f703-4c1f-a1e1-433429c6b4d0",
     "showTitle": false,
     "title": ""
    }
   },
   "source": [
    "##![Spark Logo Tiny](https://files.training.databricks.com/images/105/logo_spark_tiny.png) Getting Started\n",
    "\n",
    "Run the following cell to configure our \"classroom.\""
   ]
  },
  {
   "cell_type": "code",
   "execution_count": 0,
   "metadata": {
    "application/vnd.databricks.v1+cell": {
     "cellMetadata": {},
     "inputWidgets": {},
     "nuid": "32109a2b-8fa5-42ba-8d0e-c0a54826bfdd",
     "showTitle": false,
     "title": ""
    }
   },
   "outputs": [],
   "source": [
    "%run \"./Includes/Classroom-Setup\""
   ]
  },
  {
   "cell_type": "markdown",
   "metadata": {
    "application/vnd.databricks.v1+cell": {
     "cellMetadata": {},
     "inputWidgets": {},
     "nuid": "196d5f4b-0cac-41f0-9ea4-1893fb203d13",
     "showTitle": false,
     "title": ""
    }
   },
   "source": [
    "##![Spark Logo Tiny](https://files.training.databricks.com/images/105/logo_spark_tiny.png) Show Your Work"
   ]
  },
  {
   "cell_type": "code",
   "execution_count": 0,
   "metadata": {
    "application/vnd.databricks.v1+cell": {
     "cellMetadata": {},
     "inputWidgets": {},
     "nuid": "36be6b20-e3d6-42ca-953e-d721741f109e",
     "showTitle": false,
     "title": ""
    }
   },
   "outputs": [],
   "source": [
    "(source, sasEntity, sasToken) = getAzureDataSource()\n",
    "spark.conf.set(sasEntity, sasToken)\n",
    "\n",
    "path = source + \"/wikipedia/pagecounts/staging_parquet_en_only_clean/\""
   ]
  },
  {
   "cell_type": "code",
   "execution_count": 0,
   "metadata": {
    "application/vnd.databricks.v1+cell": {
     "cellMetadata": {},
     "inputWidgets": {},
     "nuid": "eac4727d-e26b-4a1e-8b9d-74f4a8db0cb9",
     "showTitle": false,
     "title": ""
    }
   },
   "outputs": [],
   "source": [
    "# TODO\n",
    "# Replace <<FILL_IN>> with your code. \n",
    "\n",
    "df = (spark                    # Our SparkSession & Entry Point\n",
    "  .read                        # Our DataFrameReader\n",
    "  <<FILL_IN>>                  # Read in the parquet files\n",
    "  <<FILL_IN>>                  # Reduce the columns to just the one\n",
    "  <<FILL_IN>>                  # Produce a unique set of values\n",
    ")\n",
    "totalArticles = df.<<FILL_IN>> # Identify the total number of records remaining.\n",
    "\n",
    "print(\"Distinct Articles: {0:,}\".format(totalArticles))"
   ]
  },
  {
   "cell_type": "markdown",
   "metadata": {
    "application/vnd.databricks.v1+cell": {
     "cellMetadata": {},
     "inputWidgets": {},
     "nuid": "addf6ba4-9d44-415b-a58d-0d710a85b786",
     "showTitle": false,
     "title": ""
    }
   },
   "source": [
    "##![Spark Logo Tiny](https://files.training.databricks.com/images/105/logo_spark_tiny.png) Verify Your Work\n",
    "Run the following cell to verify that your `DataFrame` was created properly."
   ]
  },
  {
   "cell_type": "code",
   "execution_count": 0,
   "metadata": {
    "application/vnd.databricks.v1+cell": {
     "cellMetadata": {},
     "inputWidgets": {},
     "nuid": "fec51082-710a-47a8-98fa-2d308c529086",
     "showTitle": false,
     "title": ""
    }
   },
   "outputs": [],
   "source": [
    "expected = 1783138\n",
    "assert totalArticles == expected, \"Expected the total to be \" + str(expected) + \" but found \" + str(totalArticles)\n"
   ]
  }
 ],
 "metadata": {
  "application/vnd.databricks.v1+notebook": {
   "dashboards": [],
   "language": "python",
   "notebookMetadata": {
    "pythonIndentUnit": 2
   },
   "notebookName": "4.Exercise: Distinct Articles",
   "widgets": {}
  }
 },
 "nbformat": 4,
 "nbformat_minor": 0
}
